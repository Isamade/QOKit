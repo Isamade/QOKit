{
 "cells": [
  {
   "cell_type": "markdown",
   "id": "33f81908-f962-4458-a7d2-1ffc1ca06a98",
   "metadata": {},
   "source": [
    "If we increase p, QAOA energy goes up. Does that match how SK works? Or do we *minimize* the SK energy? Does it even matter?"
   ]
  },
  {
   "cell_type": "code",
   "execution_count": 7,
   "id": "40c38d31-a85e-42e0-86d0-8c5f3a5b8a06",
   "metadata": {
    "tags": []
   },
   "outputs": [],
   "source": [
    "import numpy as np"
   ]
  },
  {
   "cell_type": "code",
   "execution_count": 1,
   "id": "dca70fcd-b8ac-4cd5-938c-a51f3b17382e",
   "metadata": {
    "tags": []
   },
   "outputs": [],
   "source": [
    "from qokit.sk import get_sk_terms, get_random_J\n",
    "from qokit.qaoa_objective import get_qaoa_objective\n",
    "from qokit.qaoa_objective_sk import get_qaoa_sk_objective\n",
    "from qokit.parameter_utils import get_sk_gamma_beta"
   ]
  },
  {
   "cell_type": "markdown",
   "id": "cb1ed216-9e43-401f-953e-897380063022",
   "metadata": {},
   "source": [
    "With current SK objective, the overlap goes down as energy goes up. This is wrong!"
   ]
  },
  {
   "cell_type": "code",
   "execution_count": 10,
   "id": "4eb39379-872e-4643-afed-7772f6a9c7cb",
   "metadata": {
    "tags": []
   },
   "outputs": [
    {
     "name": "stdout",
     "output_type": "stream",
     "text": [
      "1 0.20043359193362445 2.1497262436831477e-07\n",
      "2 0.26205086328074473 3.0490874225463926e-07\n",
      "3 0.2845524712055418 1.1786056430818093e-07\n",
      "4 0.30862194889014016 2.1327296817474917e-08\n",
      "5 0.3252475744684949 1.9956743702032043e-08\n",
      "6 0.3381071756944412 9.444181547912933e-09\n",
      "7 0.3517443643945093 2.1373171010807823e-09\n",
      "8 0.36715225527566325 1.7026243748219372e-09\n",
      "9 0.38288663922743554 9.514219412309899e-10\n",
      "10 0.3973137051312898 3.033771012184161e-10\n",
      "11 0.41054242119714596 1.536742955110526e-10\n",
      "12 0.4222920963514084 1.1249901010756957e-10\n",
      "13 0.43169903519551744 4.58467708241983e-11\n",
      "14 0.4392585981056497 1.5027312727511344e-11\n",
      "15 0.44624712312601206 1.3221534977958527e-11\n",
      "16 0.45376902119684726 8.078426816382489e-12\n",
      "17 0.46172192339461565 2.985167668612121e-12\n"
     ]
    }
   ],
   "source": [
    "N = 15\n",
    "\n",
    "J = get_random_J(N=N)\n",
    "\n",
    "for p in range(1, 18):\n",
    "    gamma, beta = get_sk_gamma_beta(p)\n",
    "    e = get_qaoa_sk_objective(N, p, J=J, parameterization=\"gamma beta\", simulator='c', objective=\"expectation\")(2 * gamma / np.sqrt(N), beta)\n",
    "    o = get_qaoa_sk_objective(N, p, J=J, parameterization=\"gamma beta\", simulator='c', objective=\"overlap\")(2 * gamma / np.sqrt(N), beta)\n",
    "    print(p, e/N, 1-o)"
   ]
  },
  {
   "cell_type": "markdown",
   "id": "bfeede95-88f7-4004-9985-63f4a3cb29ef",
   "metadata": {},
   "source": [
    "If you change to `optimization_type = \"max\"`, the behavior is correct. But should we be maximizing SK energy?"
   ]
  },
  {
   "cell_type": "code",
   "execution_count": 12,
   "id": "f1992183-92e8-42df-bbaa-a0fa86496938",
   "metadata": {
    "tags": []
   },
   "outputs": [
    {
     "name": "stdout",
     "output_type": "stream",
     "text": [
      "1 -0.20043359193362445 0.0012335898808160106\n",
      "2 -0.26205086328074473 0.0030432010754967154\n",
      "3 -0.2845524712055418 0.0046819257613535115\n",
      "4 -0.30862194889014016 0.006830081031267143\n",
      "5 -0.3252475744684949 0.008253808012993136\n",
      "6 -0.3381071756944412 0.008655979290909444\n",
      "7 -0.3517443643945093 0.00905739967434016\n",
      "8 -0.36715225527566325 0.010387141265113753\n",
      "9 -0.38288663922743554 0.012722139174076275\n",
      "10 -0.3973137051312898 0.015251141358761267\n",
      "11 -0.41054242119714596 0.01765547044849336\n",
      "12 -0.4222920963514084 0.020034741475569273\n",
      "13 -0.43169903519551744 0.0222102399934041\n",
      "14 -0.4392585981056497 0.02413214802159369\n",
      "15 -0.44624712312601206 0.025941983142508174\n",
      "16 -0.45376902119684726 0.028043762307111697\n",
      "17 -0.46172192339461565 0.03071356252240154\n"
     ]
    }
   ],
   "source": [
    "N = 15\n",
    "\n",
    "J = get_random_J(N=N)\n",
    "terms = get_sk_terms(J)\n",
    "\n",
    "e_obj = get_qaoa_objective(N, terms=terms, parameterization=\"gamma beta\", simulator='c', objective=\"expectation\", optimization_type=\"max\")\n",
    "o_obj = get_qaoa_objective(N, terms=terms, parameterization=\"gamma beta\", simulator='c', objective=\"overlap\", optimization_type=\"max\")\n",
    "\n",
    "for p in range(1, 18):\n",
    "    gamma, beta = get_sk_gamma_beta(p)\n",
    "    e = e_obj(2 * gamma / np.sqrt(N), beta)\n",
    "    o = o_obj(2 * gamma / np.sqrt(N), beta)\n",
    "    print(p, e/N, 1-o)"
   ]
  },
  {
   "cell_type": "code",
   "execution_count": null,
   "id": "e8722138-1c59-4e89-a53b-2d0cad82e042",
   "metadata": {},
   "outputs": [],
   "source": []
  }
 ],
 "metadata": {
  "kernelspec": {
   "display_name": "qokit-env",
   "language": "python",
   "name": "qokit-env"
  },
  "language_info": {
   "codemirror_mode": {
    "name": "ipython",
    "version": 3
   },
   "file_extension": ".py",
   "mimetype": "text/x-python",
   "name": "python",
   "nbconvert_exporter": "python",
   "pygments_lexer": "ipython3",
   "version": "3.11.9"
  }
 },
 "nbformat": 4,
 "nbformat_minor": 5
}
