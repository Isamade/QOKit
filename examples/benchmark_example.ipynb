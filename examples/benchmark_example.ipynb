{
 "cells": [
  {
   "cell_type": "code",
   "execution_count": null,
   "id": "6d84f2d6-68f2-481c-b1ba-6fcc87b6984e",
   "metadata": {},
   "outputs": [],
   "source": [
    "import numpy as np\n",
    "import networkx as nx\n",
    "import timeit \n",
    "from qokit.qaoa_objective_labs import get_qaoa_labs_objective\n",
    "from qokit.qaoa_objective_maxcut import get_qaoa_maxcut_objective"
   ]
  },
  {
   "cell_type": "code",
   "execution_count": null,
   "id": "ca9d6329-5078-4a4b-aa58-e7cf0d839d8b",
   "metadata": {},
   "outputs": [],
   "source": [
    "# number of qubits\n",
    "# Goal is to improve performance for N > 20\n",
    "N = 14\n",
    "# QAOA depth\n",
    "# Goal is to improve performance for p >= 100\n",
    "p = 100"
   ]
  },
  {
   "cell_type": "code",
   "execution_count": null,
   "id": "7af4278a-75c2-4de1-baaf-92e41a3edcbf",
   "metadata": {},
   "outputs": [],
   "source": [
    "theta = np.random.uniform(0,1,2*p)\n",
    "G = nx.random_regular_graph(3, N)"
   ]
  },
  {
   "cell_type": "code",
   "execution_count": null,
   "id": "c573d648-e114-4b8b-9209-7ce0eea8cbe3",
   "metadata": {},
   "outputs": [],
   "source": [
    "# Function initialization can take a long time\n",
    "f_labs = get_qaoa_labs_objective(N, p)\n",
    "f_maxcut = get_qaoa_maxcut_objective(N, p, G)"
   ]
  },
  {
   "cell_type": "code",
   "execution_count": null,
   "id": "439dc9fe-4ef4-4a3c-a186-b2d42914f39c",
   "metadata": {},
   "outputs": [],
   "source": [
    "# Function evaluation must be fast\n",
    "for f in [f_labs, f_maxcut]:\n",
    "    start = timeit.default_timer()\n",
    "    f(theta)\n",
    "    end = timeit.default_timer()\n",
    "    print(f\"Finished in {end-start:.4f} seconds\")"
   ]
  },
  {
   "cell_type": "markdown",
   "id": "b5abbd11-55ee-4ba3-b685-482e90180d2e",
   "metadata": {},
   "source": [
    "The objective is to reduce the time to evaluate `f_labs(theta)` and `f_maxcut(theta)` when the number of evaluations is large (> 1000). Note that the above cell evaluates the objective only once."
   ]
  },
  {
   "cell_type": "code",
   "execution_count": null,
   "id": "4f61d09e-74ec-4c9a-b2dd-0fe61213e2e2",
   "metadata": {},
   "outputs": [],
   "source": []
  }
 ],
 "metadata": {
  "kernelspec": {
   "display_name": "Python 3 (ipykernel)",
   "language": "python",
   "name": "python3"
  },
  "language_info": {
   "codemirror_mode": {
    "name": "ipython",
    "version": 3
   },
   "file_extension": ".py",
   "mimetype": "text/x-python",
   "name": "python",
   "nbconvert_exporter": "python",
   "pygments_lexer": "ipython3",
   "version": "3.9.18"
  }
 },
 "nbformat": 4,
 "nbformat_minor": 5
}
