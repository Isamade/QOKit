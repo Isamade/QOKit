{
 "cells": [
  {
   "cell_type": "code",
   "execution_count": 1,
   "id": "79919c7a-d733-4b85-9263-9643a09e7c0f",
   "metadata": {
    "tags": []
   },
   "outputs": [],
   "source": [
    "import sys\n",
    "import os\n",
    "# Get the parent directory\n",
    "parent_dir = os.getcwd()\n",
    "# Add the parent directory to sys.path\n",
    "sys.path.append(parent_dir)"
   ]
  },
  {
   "cell_type": "code",
   "execution_count": 2,
   "id": "1eaecff5-8ac3-4335-bf39-a23e5390028b",
   "metadata": {
    "tags": []
   },
   "outputs": [],
   "source": [
    "import numpy as np\n",
    "from itertools import combinations\n",
    "import scipy\n",
    "import qokit\n",
    "from qokit import get_qaoa_objective\n",
    "from qokit.parameter_utils import parallel_execution, initialize_csv, generate_p_values, interpolation_basis, fine_tune_result, save_result, log_walltime\n",
    "from contextlib import contextmanager\n",
    "import time\n",
    "from typing import Optional, Tuple, Callable"
   ]
  },
  {
   "cell_type": "code",
   "execution_count": 4,
   "id": "16fe9c91-0e87-47e7-a759-f4dd38b680e5",
   "metadata": {
    "tags": []
   },
   "outputs": [],
   "source": [
    "# Constants for the linear ramp initialization\n",
    "GAMMA_START = 0.0\n",
    "GAMMA_END = 0.1\n",
    "BETA_START = -0.1\n",
    "BETA_END = 0.0\n"
   ]
  },
  {
   "cell_type": "code",
   "execution_count": 5,
   "id": "72eb6720-65c3-4135-89fa-340d1ab5878a",
   "metadata": {
    "tags": []
   },
   "outputs": [],
   "source": [
    "# Constants\n",
    "max_evals = 40000\n",
    "ratio_threshold = 0.98\n",
    "overlap_threshold = 0.5\n",
    "rhobeg = 0.01"
   ]
  },
  {
   "cell_type": "code",
   "execution_count": 6,
   "id": "225bce41-0787-477b-9cae-58f06a426091",
   "metadata": {
    "tags": []
   },
   "outputs": [],
   "source": [
    "def initialize_parameters(gamma: Optional[np.ndarray], beta: Optional[np.ndarray], p: int) -> Tuple[np.ndarray, np.ndarray]:\n",
    "    if gamma is None and beta is None:\n",
    "        gamma = np.linspace(GAMMA_START, GAMMA_END, p)\n",
    "        beta = np.linspace(BETA_START, BETA_END, p)\n",
    "    elif gamma is not None and beta is not None:\n",
    "        assert len(gamma) == len(beta)\n",
    "    return gamma, beta"
   ]
  },
  {
   "cell_type": "code",
   "execution_count": 7,
   "id": "cc55af8d-6ce9-4ee0-a983-ef52741bdd3e",
   "metadata": {
    "tags": []
   },
   "outputs": [],
   "source": [
    "@contextmanager\n",
    "def suppress_stdout():\n",
    "    with open(os.devnull, 'w') as devnull:\n",
    "        old_stdout = sys.stdout\n",
    "        sys.stdout = devnull\n",
    "        try:\n",
    "            yield\n",
    "        finally:\n",
    "            sys.stdout = old_stdout"
   ]
  },
  {
   "cell_type": "code",
   "execution_count": 8,
   "id": "31da1a27-e475-4c10-be46-68b5acd57ecf",
   "metadata": {
    "tags": []
   },
   "outputs": [],
   "source": [
    "def II_schedule(\n",
    "    f_overlap: Callable[[np.ndarray], float],\n",
    "    f: Callable[[np.ndarray], float],\n",
    "    gs_energy: float,\n",
    "    N: int,\n",
    "    pmax: int = 100,\n",
    "    step: int = 5,\n",
    "    epsilon: float = 0.01,\n",
    "    patience: int = 5,\n",
    "    filename: str = None,\n",
    "    p0: int = 5,\n",
    "    gamma: Optional[np.ndarray] = None,\n",
    "    beta: Optional[np.ndarray] = None,\n",
    "    save: bool = True,\n",
    "    basis: str = 'chebyshev',\n",
    "    optimizer: str = 'bobyqa',\n",
    "    maxiter: int = 1000,\n",
    "    overlap_conv: bool = True,\n",
    "    max_energy: float = 0,\n",
    "    ratio_threshold: float = 0.98,\n",
    "    rhobeg: float = 0.01\n",
    ") -> dict:\n",
    "    start_time = time.time()\n",
    "    total_eval = 0\n",
    "    \n",
    "    if filename is None:\n",
    "        filename = f'II_N_{N}_pmax_{pmax}_step_{step}_optimizer_{optimizer}.csv'\n",
    "\n",
    "    if save and filename and not os.path.exists(filename):\n",
    "        initialize_csv(filename)\n",
    "\n",
    "    gamma, beta = initialize_parameters(gamma, beta, p=p0)\n",
    "\n",
    "    if p0 < 5:\n",
    "        init_p = np.array([1,2, 3, 4])\n",
    "        p_values = np.concatenate((init_p, generate_p_values(5, pmax, step)))\n",
    "        \n",
    "    else:\n",
    "        p_values = generate_p_values(p0, pmax, step)\n",
    "        \n",
    "    num_coeffs = 5\n",
    "    \n",
    "    counter = 0\n",
    "    prev_approx_ratio = 0\n",
    "    print(f\"Optimal value for N={N} is {gs_energy}\")\n",
    "\n",
    "    for p in p_values:\n",
    "        if p<=5:\n",
    "            num_coeffs = p\n",
    "        \n",
    "        gamma, beta = interpolation_basis(gamma, beta, p, num_coeffs, basis)\n",
    "        result = fine_tune_result(f_overlap, f, gs_energy, N, p, num_coeffs, gamma, beta, basis, optimizer, rhobeg, maxiter, max_energy)\n",
    "        gamma, beta = result['gamma'], result['beta']\n",
    "        approx_ratio = result['approx_ratio']\n",
    "        overlap = result['overlap']\n",
    "        total_eval += result['evaluations']\n",
    "\n",
    "        if save and filename:\n",
    "            save_result(result, filename)\n",
    "\n",
    "        if overlap_conv==True:\n",
    "            if overlap > overlap_threshold or total_eval > max_evals:\n",
    "                break\n",
    "                \n",
    "        if overlap_conv==False:\n",
    "            if approx_ratio > ratio_threshold or total_eval > max_evals:\n",
    "                break\n",
    "\n",
    "        improvement = (approx_ratio - prev_approx_ratio) / approx_ratio\n",
    "        if improvement < epsilon:\n",
    "            counter += 1\n",
    "\n",
    "        if counter == patience:\n",
    "            num_coeffs += 1\n",
    "            counter = 0\n",
    "\n",
    "        prev_approx_ratio = approx_ratio\n",
    "\n",
    "    log_walltime(start_time)\n",
    "    print(f\"Total evaluations: {total_eval}\")\n",
    "    return result"
   ]
  },
  {
   "cell_type": "code",
   "execution_count": 9,
   "id": "8b819efc-06fa-48eb-9736-e2198c314d35",
   "metadata": {
    "tags": []
   },
   "outputs": [],
   "source": [
    "def gs(N, terms):\n",
    "    simclass = qokit.fur.choose_simulator(name='auto')\n",
    "    sim = simclass(N, terms=terms)\n",
    "    sorted_diag = np.sort(sim.get_cost_diagonal())\n",
    "    gs = sorted_diag[0]\n",
    "    return gs"
   ]
  },
  {
   "cell_type": "code",
   "execution_count": 10,
   "id": "5cd10ed8-b059-42f0-8f27-d11d13ee31ec",
   "metadata": {
    "tags": []
   },
   "outputs": [],
   "source": [
    "def createList(r1, r2):\n",
    "    return [item for item in range(r1, r2+1)]"
   ]
  },
  {
   "cell_type": "code",
   "execution_count": 11,
   "id": "c2d44fec-cf64-4dd7-89f1-75891973ab40",
   "metadata": {
    "tags": []
   },
   "outputs": [],
   "source": [
    "def run_trial(N, trial, base_seed, pmax, step, optimizer, dir_name):\n",
    "    with suppress_stdout():\n",
    "        seed = base_seed + trial\n",
    "        np.random.seed(seed)\n",
    "        terms = [(np.random.normal(), spin_pair) for spin_pair in combinations(range(N), r=2)]\n",
    "        \n",
    "        f_overlap = get_qaoa_objective(N, terms=terms, objective=\"overlap\")\n",
    "        f = get_qaoa_objective(N, terms=terms, objective=\"expectation\")\n",
    "        \n",
    "        gs_energy = gs(N, terms)\n",
    "        \n",
    "        filename = os.path.join(dir_name, f\"II_N_{N}_SK_results_seed_{seed}_pmax_{pmax}_step_{step}_optimizer_{optimizer}.csv\")\n",
    "\n",
    "        result = II_schedule(\n",
    "            f_overlap=f_overlap,\n",
    "            f=f,\n",
    "            gs_energy=gs_energy,\n",
    "            N=N,\n",
    "            pmax=pmax,\n",
    "            step=step,\n",
    "            save=True,\n",
    "            filename=filename,\n",
    "            p0=5,\n",
    "            overlap_conv=True\n",
    "        )"
   ]
  },
  {
   "cell_type": "code",
   "execution_count": 12,
   "id": "4ee716e3-1096-47aa-8b37-09017757ee66",
   "metadata": {
    "tags": []
   },
   "outputs": [],
   "source": [
    "def main(N):\n",
    "    base_seed = 0\n",
    "    num_trials = 5\n",
    "    pmax = 100\n",
    "    step = 5\n",
    "    optimizer = 'bobyqa'\n",
    "    num_gpus = 4\n",
    "    dir_name = f\"ii_results/SK_N{N}\"\n",
    "    os.makedirs(dir_name, exist_ok=True)\n",
    "    \n",
    "    inputs = [(N, trial, base_seed, pmax, step, optimizer, dir_name) for trial in range(num_trials)]\n",
    "    \n",
    "    results = parallel_execution(run_trial, inputs, num_gpus)"
   ]
  },
  {
   "cell_type": "code",
   "execution_count": 13,
   "id": "36af0cfb-9bec-4c1d-bf6a-835e23bdabfe",
   "metadata": {
    "tags": []
   },
   "outputs": [],
   "source": [
    "if __name__ == \"__main__\":    \n",
    "    N = 6\n",
    "    main(N)"
   ]
  }
 ],
 "metadata": {
  "kernelspec": {
   "display_name": "qiskit2",
   "language": "python",
   "name": "qiskit2"
  },
  "language_info": {
   "codemirror_mode": {
    "name": "ipython",
    "version": 3
   },
   "file_extension": ".py",
   "mimetype": "text/x-python",
   "name": "python",
   "nbconvert_exporter": "python",
   "pygments_lexer": "ipython3",
   "version": "3.11.9"
  }
 },
 "nbformat": 4,
 "nbformat_minor": 5
}
