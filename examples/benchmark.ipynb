{
 "cells": [
  {
   "cell_type": "markdown",
   "id": "1c1a8de1-aa43-4136-9844-8abadf6343dd",
   "metadata": {},
   "source": [
    "Please install QOKit from source. If you have issues with urllib3, downgrade it after QOKit install by running `pip install urllib3==1.26.6`\n",
    "\n",
    "First, we check that all the simulators are loaded properly"
   ]
  },
  {
   "cell_type": "code",
   "execution_count": 2,
   "id": "d9a6d070-3524-4fe8-af23-c295751d7145",
   "metadata": {
    "tags": []
   },
   "outputs": [
    {
     "name": "stdout",
     "output_type": "stream",
     "text": [
      "['c', 'python']\n"
     ]
    }
   ],
   "source": [
    "from qokit.fur import get_available_simulator_names\n",
    "\n",
    "print(get_available_simulator_names(\"x\"))"
   ]
  },
  {
   "cell_type": "markdown",
   "id": "11678646-6e36-416f-aec6-39b38f1bc02f",
   "metadata": {},
   "source": [
    "The output should be `['gpu', 'c', 'python']`. If the `'c'` simulator is missing, you can compile it manually by running `make -C qokit/fur/c/csim/src/` in the home directory of QOKit"
   ]
  },
  {
   "cell_type": "code",
   "execution_count": 3,
   "id": "6d84f2d6-68f2-481c-b1ba-6fcc87b6984e",
   "metadata": {
    "tags": []
   },
   "outputs": [],
   "source": [
    "import numpy as np\n",
    "from tqdm import tqdm\n",
    "import networkx as nx\n",
    "import timeit \n",
    "from qokit.qaoa_objective_labs import get_qaoa_labs_objective\n",
    "from qokit.qaoa_objective_maxcut import get_qaoa_maxcut_objective\n",
    "from qokit.qaoa_objective_sk import get_qaoa_sk_objective\n",
    "from qokit.qaoa_objective import get_qaoa_objective"
   ]
  },
  {
   "cell_type": "code",
   "execution_count": 4,
   "id": "b9452455-9fce-4082-8ce6-5ba5ee921d59",
   "metadata": {
    "tags": []
   },
   "outputs": [],
   "source": [
    "from qokit.utils import precompute_energies"
   ]
  },
  {
   "cell_type": "markdown",
   "id": "9c0ab1bf-fbf2-4b62-a4d2-998b3002fba4",
   "metadata": {},
   "source": [
    "Note that `f_labs` requires a precomputed diagonal for higher `N`. \n",
    "You can precompute the diagonal once using \n",
    "```\n",
    "from qokit.labs import negative_merit_factor_from_bitstring\n",
    "ens = precompute_energies(negative_merit_factor_from_bitstring, N)\n",
    "outpath = f\"../qokit/assets/precomputed_merit_factors/precomputed_energies_{N}.npy\"\n",
    "np.save(outpath, ens, allow_pickle=False)\n",
    "```\n",
    "and saving it on disc under `qokit/assets/precomputed_merit_factors`. Note that precomputation can take a while."
   ]
  },
  {
   "cell_type": "code",
   "execution_count": 9,
   "id": "cc25c2a0-760d-4482-bf4d-19a0dc746def",
   "metadata": {
    "tags": []
   },
   "outputs": [
    {
     "name": "stdout",
     "output_type": "stream",
     "text": [
      "N=8\n",
      "-11.969406178348745 2.406151532752335\n"
     ]
    },
    {
     "name": "stderr",
     "output_type": "stream",
     "text": [
      "100%|██████████| 10/10 [00:00<00:00, 2966.27it/s]\n"
     ]
    },
    {
     "name": "stdout",
     "output_type": "stream",
     "text": [
      "\tLABS finished in 0.0003 on average, min: 0.0003, max: 0.0005\n"
     ]
    },
    {
     "name": "stderr",
     "output_type": "stream",
     "text": [
      "100%|██████████| 10/10 [00:00<00:00, 3140.15it/s]\n"
     ]
    },
    {
     "name": "stdout",
     "output_type": "stream",
     "text": [
      "\tMaxCut finished in 0.0003 on average, min: 0.0003, max: 0.0003\n"
     ]
    },
    {
     "name": "stderr",
     "output_type": "stream",
     "text": [
      "100%|██████████| 10/10 [00:00<00:00, 109.51it/s]\n"
     ]
    },
    {
     "name": "stdout",
     "output_type": "stream",
     "text": [
      "\tSK finished in 0.0003 on average, min: 0.0003, max: 0.0003\n",
      "N=10\n",
      "-13.475884400721835 4.7254963985222815\n"
     ]
    },
    {
     "name": "stderr",
     "output_type": "stream",
     "text": [
      "100%|██████████| 10/10 [00:00<00:00, 1117.91it/s]"
     ]
    },
    {
     "name": "stdout",
     "output_type": "stream",
     "text": [
      "\tLABS finished in 0.0009 on average, min: 0.0006, max: 0.0026\n"
     ]
    },
    {
     "name": "stderr",
     "output_type": "stream",
     "text": [
      "\n",
      "100%|██████████| 10/10 [00:00<00:00, 100.25it/s]\n"
     ]
    },
    {
     "name": "stdout",
     "output_type": "stream",
     "text": [
      "\tMaxCut finished in 0.0099 on average, min: 0.0007, max: 0.0915\n"
     ]
    },
    {
     "name": "stderr",
     "output_type": "stream",
     "text": [
      "100%|██████████| 10/10 [00:00<00:00, 100.95it/s]\n"
     ]
    },
    {
     "name": "stdout",
     "output_type": "stream",
     "text": [
      "\tSK finished in 0.0099 on average, min: 0.0007, max: 0.0910\n",
      "N=12\n",
      "-23.068234664673355 8.352977140900474\n"
     ]
    },
    {
     "name": "stderr",
     "output_type": "stream",
     "text": [
      "100%|██████████| 10/10 [00:00<00:00, 882.29it/s]\n"
     ]
    },
    {
     "name": "stdout",
     "output_type": "stream",
     "text": [
      "\tLABS finished in 0.0011 on average, min: 0.0008, max: 0.0035\n"
     ]
    },
    {
     "name": "stderr",
     "output_type": "stream",
     "text": [
      "100%|██████████| 10/10 [00:00<00:00, 95.48it/s]\n"
     ]
    },
    {
     "name": "stdout",
     "output_type": "stream",
     "text": [
      "\tMaxCut finished in 0.0104 on average, min: 0.0008, max: 0.0908\n"
     ]
    },
    {
     "name": "stderr",
     "output_type": "stream",
     "text": [
      "100%|██████████| 10/10 [00:00<00:00, 107.87it/s]"
     ]
    },
    {
     "name": "stdout",
     "output_type": "stream",
     "text": [
      "\tSK finished in 0.0092 on average, min: 0.0008, max: 0.0831\n"
     ]
    },
    {
     "name": "stderr",
     "output_type": "stream",
     "text": [
      "\n"
     ]
    }
   ],
   "source": [
    "# number of qubits\n",
    "for N in [8, 10, 12]:\n",
    "    print(f\"N={N}\")\n",
    "    # QAOA depth\n",
    "    p = 6\n",
    "\n",
    "    theta = np.random.uniform(0,1,2*p)\n",
    "    G = nx.complete_graph(N) #, seed=42)\n",
    "    J = np.random.randn(N, N)\n",
    "    J = (J + J.T)/2\n",
    "\n",
    "    for edge in G.edges:\n",
    "        G.edges[edge[0], edge[1]]['weight'] = 1 #J[edge[0], edge[1]]\n",
    "\n",
    "    # Function initialization may not be fast\n",
    "    f_maxcut = get_qaoa_maxcut_objective(N, p, G)\n",
    "    f_sk = get_qaoa_sk_objective(N, p, G)\n",
    "    f_labs = get_qaoa_labs_objective(N, p)\n",
    "    \n",
    "    print(f_maxcut(theta), f_sk(theta))\n",
    "\n",
    "    # Function evaluation is fast\n",
    "    for f, label in [(f_labs, \"LABS\"), (f_maxcut, \"MaxCut\"), (f_sk, \"SK\")]:\n",
    "        f(theta) # do not count the first evaluation\n",
    "        times = []\n",
    "        for _ in tqdm(range(10)):\n",
    "            start = timeit.default_timer()\n",
    "            f(theta)\n",
    "            end = timeit.default_timer()\n",
    "            times.append(end-start)\n",
    "        print(f\"\\t{label} finished in {np.mean(times):.4f} on average, min: {np.min(times):.4f}, max: {np.max(times):.4f}\")"
   ]
  },
  {
   "cell_type": "markdown",
   "id": "b5abbd11-55ee-4ba3-b685-482e90180d2e",
   "metadata": {},
   "source": [
    "This is what I measured on `g4dn.2xlarge` (NVIDIA T4 GPU) as the time to evaluate `f_labs(theta)` and `f_maxcut(theta)` (commit `f6f6f565`):\n",
    "\n",
    "```\n",
    "N=24\n",
    "\tLABS finished in 0.1823 on average, min: 0.1802, max: 0.1902\n",
    "\tMaxCut finished in 0.1676 on average, min: 0.1637, max: 0.1758\n",
    "N=26\n",
    "\tLABS finished in 0.8143 on average, min: 0.8102, max: 0.8229\n",
    "\tMaxCut finished in 0.7606 on average, min: 0.7571, max: 0.7692\n",
    "N=28\n",
    "\tLABS finished in 3.2480 on average, min: 3.2361, max: 3.2598\n",
    "\tMaxCut finished in 2.9858 on average, min: 2.9793, max: 2.9949\n",
    "```\n",
    "\n",
    "Same benchmark on `g5.2xlarge` (NVIDIA A10G):\n",
    "\n",
    "```\n",
    "N=24\n",
    "\tLABS finished in 0.0821 on average, min: 0.0806, max: 0.0885\n",
    "\tMaxCut finished in 0.0773 on average, min: 0.0759, max: 0.0836\n",
    "N=26\n",
    "\tLABS finished in 0.3509 on average, min: 0.3481, max: 0.3601\n",
    "\tMaxCut finished in 0.3308 on average, min: 0.3289, max: 0.3393\n",
    "N=28\n",
    "\tLABS finished in 1.3889 on average, min: 1.3856, max: 1.3953\n",
    "\tMaxCut finished in 1.3112 on average, min: 1.3088, max: 1.3201\n",
    "```\n",
    "\n",
    "On large memory CPU nodes, you can run with more qubits using the `'c'` simulator. "
   ]
  },
  {
   "cell_type": "code",
   "execution_count": null,
   "id": "549162cf-99c4-4473-bc01-87b616dae7bc",
   "metadata": {},
   "outputs": [],
   "source": [
    "# number of qubits\n",
    "for N in [12, 16, 20, 24, 28, 32, 33, 34]:\n",
    "    print(f\"N={N}\")\n",
    "    # QAOA depth\n",
    "    p = 6\n",
    "\n",
    "    theta = np.random.uniform(0,1,2*p)\n",
    "    G = nx.random_regular_graph(4, N, seed=42)\n",
    "\n",
    "    # Function initialization may not be fast\n",
    "    f_labs = get_qaoa_labs_objective(N, p, simulator='c')\n",
    "\n",
    "    # Function evaluation is fast\n",
    "    for f, label in [(f_labs, \"LABS\")]:\n",
    "        f(theta) # do not count the first evaluation\n",
    "        times = []\n",
    "        for _ in tqdm(range(3)):\n",
    "            start = timeit.default_timer()\n",
    "            f(theta)\n",
    "            end = timeit.default_timer()\n",
    "            times.append(end-start)\n",
    "        print(f\"For N = {N}, {label} finished in {np.mean(times):.4f} on average, min: {np.min(times):.4f}, max: {np.max(times):.4f}\")"
   ]
  },
  {
   "cell_type": "markdown",
   "id": "ec7d4d59-03a3-4fea-8516-6d03ad410cd3",
   "metadata": {},
   "source": [
    "Here's what I measured on `r5.24xlarge` (Intel Xeon Platinum 8175M CPU @ 2.50GHz, 24 Cores per socket with 2 sockets, 2 threads per core, 768 GB RAM):\n",
    "\n",
    "```\n",
    "For N = 12, LABS finished in 0.0013 on average, min: 0.0012, max: 0.0016\n",
    "For N = 16, LABS finished in 0.1293 on average, min: 0.1180, max: 0.1483\n",
    "For N = 20, LABS finished in 0.1510 on average, min: 0.1325, max: 0.1745\n",
    "For N = 24, LABS finished in 0.7461 on average, min: 0.7184, max: 0.7760\n",
    "For N = 28, LABS finished in 11.4725 on average, min: 11.3852, max: 11.6067\n",
    "For N = 32, LABS finished in 234.7204 on average, min: 234.3182, max: 235.0045\n",
    "For N = 33, LABS finished in 482.1637 on average, min: 476.6924, max: 485.6158\n",
    "For N = 34, LABS finished in 958.0517 on average, min: 946.1425, max: 968.6004\n",
    "```"
   ]
  },
  {
   "cell_type": "code",
   "execution_count": null,
   "id": "84c0121b-cab8-4062-a93f-426a4d3c9757",
   "metadata": {},
   "outputs": [],
   "source": []
  },
  {
   "cell_type": "code",
   "execution_count": 10,
   "id": "5dab942f-a10d-47a6-945a-6fecf4cc1c39",
   "metadata": {
    "tags": []
   },
   "outputs": [],
   "source": [
    "import numpy as np"
   ]
  },
  {
   "cell_type": "code",
   "execution_count": 14,
   "id": "20b4c487-bb71-43a8-b3f9-804a4a49e89d",
   "metadata": {
    "tags": []
   },
   "outputs": [],
   "source": [
    "n=3"
   ]
  },
  {
   "cell_type": "code",
   "execution_count": 15,
   "id": "737995df-a47e-4e9e-9c9c-180b1e1adcaa",
   "metadata": {
    "tags": []
   },
   "outputs": [],
   "source": [
    "x = np.random.randn(n, n)"
   ]
  },
  {
   "cell_type": "code",
   "execution_count": 16,
   "id": "477a724b-35ab-4a2e-aad5-d1417f263be0",
   "metadata": {
    "tags": []
   },
   "outputs": [
    {
     "data": {
      "text/plain": [
       "array([[ 0.48929965,  0.24325887, -0.08034045],\n",
       "       [-1.05869945, -0.6424519 , -1.92976591],\n",
       "       [-0.98251804,  0.43707901, -0.51245069]])"
      ]
     },
     "execution_count": 16,
     "metadata": {},
     "output_type": "execute_result"
    }
   ],
   "source": [
    "x"
   ]
  },
  {
   "cell_type": "code",
   "execution_count": 21,
   "id": "22ee0822-d86e-4c89-a4a3-75e8fdc4873c",
   "metadata": {
    "tags": []
   },
   "outputs": [],
   "source": [
    "np.fill_diagonal(x, 1)"
   ]
  },
  {
   "cell_type": "code",
   "execution_count": 22,
   "id": "e60e4990-840c-45e0-96e5-dc37bae49cf3",
   "metadata": {
    "tags": []
   },
   "outputs": [
    {
     "data": {
      "text/plain": [
       "array([[ 1.        ,  0.24325887, -0.08034045],\n",
       "       [-1.05869945,  1.        , -1.92976591],\n",
       "       [-0.98251804,  0.43707901,  1.        ]])"
      ]
     },
     "execution_count": 22,
     "metadata": {},
     "output_type": "execute_result"
    }
   ],
   "source": [
    "x"
   ]
  },
  {
   "cell_type": "code",
   "execution_count": null,
   "id": "29c08409-b63e-406a-8422-577a76ef714f",
   "metadata": {},
   "outputs": [],
   "source": []
  }
 ],
 "metadata": {
  "kernelspec": {
   "display_name": "qiskit2",
   "language": "python",
   "name": "qiskit2"
  },
  "language_info": {
   "codemirror_mode": {
    "name": "ipython",
    "version": 3
   },
   "file_extension": ".py",
   "mimetype": "text/x-python",
   "name": "python",
   "nbconvert_exporter": "python",
   "pygments_lexer": "ipython3",
   "version": "3.11.9"
  }
 },
 "nbformat": 4,
 "nbformat_minor": 5
}
