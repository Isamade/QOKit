{
 "cells": [
  {
   "cell_type": "markdown",
   "id": "1c1a8de1-aa43-4136-9844-8abadf6343dd",
   "metadata": {},
   "source": [
    "Please install QOKit from source. If you have issues with urllib3, downgrade it after QOKit install by running `pip install urllib3==1.26.6`\n",
    "\n",
    "First, we check that all the simulators are loaded properly"
   ]
  },
  {
   "cell_type": "code",
   "execution_count": 1,
   "id": "d9a6d070-3524-4fe8-af23-c295751d7145",
   "metadata": {},
   "outputs": [
    {
     "name": "stdout",
     "output_type": "stream",
     "text": [
      "['gpu', 'c', 'python']\n"
     ]
    }
   ],
   "source": [
    "from qokit.fur import get_available_simulator_names\n",
    "\n",
    "print(get_available_simulator_names(\"x\"))"
   ]
  },
  {
   "cell_type": "markdown",
   "id": "11678646-6e36-416f-aec6-39b38f1bc02f",
   "metadata": {},
   "source": [
    "The output should be `['gpu', 'c', 'python']`. `'c'` simulator is essential to this benchmark. If it's missing, you can compile it manually by running `make -C qokit/fur/c/csim/src/` in the home directory of QOKit"
   ]
  },
  {
   "cell_type": "code",
   "execution_count": 2,
   "id": "6d84f2d6-68f2-481c-b1ba-6fcc87b6984e",
   "metadata": {},
   "outputs": [],
   "source": [
    "import numpy as np\n",
    "from tqdm import tqdm\n",
    "import networkx as nx\n",
    "import timeit \n",
    "from qokit.qaoa_objective_labs import get_qaoa_labs_objective\n",
    "from qokit.qaoa_objective_maxcut import get_qaoa_maxcut_objective\n",
    "from qokit.qaoa_objective import get_qaoa_objective"
   ]
  },
  {
   "cell_type": "markdown",
   "id": "9c0ab1bf-fbf2-4b62-a4d2-998b3002fba4",
   "metadata": {},
   "source": [
    "Note that `f_labs` requires a precomputed diagonal for higher `N`. \n",
    "You can precompute the diagonal once using \n",
    "```\n",
    "from qokit.labs import negative_merit_factor_from_bitstring\n",
    "ens = precompute_energies(negative_merit_factor_from_bitstring, N)\n",
    "outpath = f\"../qokit/assets/precomputed_merit_factors/precomputed_energies_{N}.npy\"\n",
    "np.save(outpath, ens, allow_pickle=False)\n",
    "```\n",
    "and saving it on disc under `qokit/assets/precomputed_merit_factors`. Note that precomputation can take a while."
   ]
  },
  {
   "cell_type": "code",
   "execution_count": 5,
   "id": "cc25c2a0-760d-4482-bf4d-19a0dc746def",
   "metadata": {},
   "outputs": [
    {
     "name": "stdout",
     "output_type": "stream",
     "text": [
      "N=20\n"
     ]
    },
    {
     "name": "stderr",
     "output_type": "stream",
     "text": [
      "100%|██████████| 10/10 [00:03<00:00,  3.00it/s]\n"
     ]
    },
    {
     "name": "stdout",
     "output_type": "stream",
     "text": [
      "\tLABS finished in 0.3290 on average, min: 0.3222, max: 0.3425\n"
     ]
    },
    {
     "name": "stderr",
     "output_type": "stream",
     "text": [
      "100%|██████████| 10/10 [00:03<00:00,  3.02it/s]\n"
     ]
    },
    {
     "name": "stdout",
     "output_type": "stream",
     "text": [
      "\tMaxCut finished in 0.3266 on average, min: 0.3116, max: 0.3582\n",
      "N=22\n"
     ]
    },
    {
     "name": "stderr",
     "output_type": "stream",
     "text": [
      "100%|██████████| 10/10 [00:11<00:00,  1.10s/it]\n"
     ]
    },
    {
     "name": "stdout",
     "output_type": "stream",
     "text": [
      "\tLABS finished in 1.0984 on average, min: 1.0855, max: 1.1189\n"
     ]
    },
    {
     "name": "stderr",
     "output_type": "stream",
     "text": [
      "100%|██████████| 10/10 [00:10<00:00,  1.09s/it]\n"
     ]
    },
    {
     "name": "stdout",
     "output_type": "stream",
     "text": [
      "\tMaxCut finished in 1.0919 on average, min: 1.0831, max: 1.1182\n",
      "N=24\n"
     ]
    },
    {
     "name": "stderr",
     "output_type": "stream",
     "text": [
      "100%|██████████| 10/10 [00:45<00:00,  4.50s/it]\n"
     ]
    },
    {
     "name": "stdout",
     "output_type": "stream",
     "text": [
      "\tLABS finished in 4.5025 on average, min: 4.4618, max: 4.5677\n"
     ]
    },
    {
     "name": "stderr",
     "output_type": "stream",
     "text": [
      "100%|██████████| 10/10 [00:43<00:00,  4.38s/it]"
     ]
    },
    {
     "name": "stdout",
     "output_type": "stream",
     "text": [
      "\tMaxCut finished in 4.3782 on average, min: 4.3449, max: 4.4102\n"
     ]
    },
    {
     "name": "stderr",
     "output_type": "stream",
     "text": [
      "\n"
     ]
    }
   ],
   "source": [
    "# number of qubits\n",
    "for N in [20, 22, 24]:\n",
    "    print(f\"N={N}\")\n",
    "    # QAOA depth\n",
    "    p = 6\n",
    "\n",
    "    theta = np.random.uniform(0,1,2*p)\n",
    "    G = nx.random_regular_graph(4, N, seed=42)\n",
    "\n",
    "    # Function initialization may not be fast\n",
    "    f_maxcut = get_qaoa_maxcut_objective(N, p, G, simulator='c')\n",
    "    f_labs = get_qaoa_labs_objective(N, p, simulator='c')\n",
    "\n",
    "    # Function evaluation is fast\n",
    "    for f, label in [(f_labs, \"LABS\"), (f_maxcut, \"MaxCut\")]:\n",
    "        f(theta) # do not count the first evaluation\n",
    "        times = []\n",
    "        for _ in tqdm(range(10)):\n",
    "            start = timeit.default_timer()\n",
    "            f(theta)\n",
    "            end = timeit.default_timer()\n",
    "            times.append(end-start)\n",
    "        print(f\"\\t{label} finished in {np.mean(times):.4f} on average, min: {np.min(times):.4f}, max: {np.max(times):.4f}\")"
   ]
  }
 ],
 "metadata": {
  "kernelspec": {
   "display_name": "py39",
   "language": "python",
   "name": "py39"
  },
  "language_info": {
   "codemirror_mode": {
    "name": "ipython",
    "version": 3
   },
   "file_extension": ".py",
   "mimetype": "text/x-python",
   "name": "python",
   "nbconvert_exporter": "python",
   "pygments_lexer": "ipython3",
   "version": "3.9.4"
  }
 },
 "nbformat": 4,
 "nbformat_minor": 5
}
